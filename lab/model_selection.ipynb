{
 "cells": [
  {
   "cell_type": "markdown",
   "id": "457328cf-9618-4054-bb97-dc295013f613",
   "metadata": {},
   "source": [
    "# Data pipeline"
   ]
  },
  {
   "cell_type": "markdown",
   "id": "5a826cf0-5180-4bba-8d91-66697041ef04",
   "metadata": {},
   "source": [
    "## Feature selection"
   ]
  },
  {
   "cell_type": "code",
   "id": "a4211cdb-f472-44c9-a48e-4cbb00effa96",
   "metadata": {
    "ExecuteTime": {
     "end_time": "2024-04-19T01:50:19.664363Z",
     "start_time": "2024-04-19T01:50:19.637126Z"
    }
   },
   "source": [
    "import pandas as pd\n",
    "\n",
    "numeric_features = ['E_NEds', 'E_Bpag',\n",
    "                    'NEds', 'NDays', 'NPcreated', 'ns_user', 'ns_wikipedia', 'ns_talk', 'ns_userTalk'\n",
    "                    ]\n",
    "df = pd.read_csv('mlops_data.csv')\n",
    "df = df[df['gender'] != 0]\n",
    "\n",
    "df = df[numeric_features+['gender']]\n",
    "\n",
    "print(f'Gender-defined records: {len(df)}')\n",
    "df.head()"
   ],
   "outputs": [
    {
     "name": "stdout",
     "output_type": "stream",
     "text": [
      "Gender-defined records: 3145\n"
     ]
    },
    {
     "data": {
      "text/plain": [
       "   E_NEds  E_Bpag  NEds  NDays  NPcreated  ns_user  ns_wikipedia  ns_talk  \\\n",
       "0       2       2   543     56          4       91            28        6   \n",
       "2       0       2    57   2927          0        3             0        1   \n",
       "3       1       2   104     67          2       20             1        2   \n",
       "5       3       1  1887   4130         62        7             2       31   \n",
       "7       3       3  5833   3209        108      161            10        9   \n",
       "\n",
       "   ns_userTalk  gender  \n",
       "0           76       1  \n",
       "2            3       1  \n",
       "3            2       1  \n",
       "5           10       1  \n",
       "7          184       1  "
      ],
      "text/html": [
       "<div>\n",
       "<style scoped>\n",
       "    .dataframe tbody tr th:only-of-type {\n",
       "        vertical-align: middle;\n",
       "    }\n",
       "\n",
       "    .dataframe tbody tr th {\n",
       "        vertical-align: top;\n",
       "    }\n",
       "\n",
       "    .dataframe thead th {\n",
       "        text-align: right;\n",
       "    }\n",
       "</style>\n",
       "<table border=\"1\" class=\"dataframe\">\n",
       "  <thead>\n",
       "    <tr style=\"text-align: right;\">\n",
       "      <th></th>\n",
       "      <th>E_NEds</th>\n",
       "      <th>E_Bpag</th>\n",
       "      <th>NEds</th>\n",
       "      <th>NDays</th>\n",
       "      <th>NPcreated</th>\n",
       "      <th>ns_user</th>\n",
       "      <th>ns_wikipedia</th>\n",
       "      <th>ns_talk</th>\n",
       "      <th>ns_userTalk</th>\n",
       "      <th>gender</th>\n",
       "    </tr>\n",
       "  </thead>\n",
       "  <tbody>\n",
       "    <tr>\n",
       "      <th>0</th>\n",
       "      <td>2</td>\n",
       "      <td>2</td>\n",
       "      <td>543</td>\n",
       "      <td>56</td>\n",
       "      <td>4</td>\n",
       "      <td>91</td>\n",
       "      <td>28</td>\n",
       "      <td>6</td>\n",
       "      <td>76</td>\n",
       "      <td>1</td>\n",
       "    </tr>\n",
       "    <tr>\n",
       "      <th>2</th>\n",
       "      <td>0</td>\n",
       "      <td>2</td>\n",
       "      <td>57</td>\n",
       "      <td>2927</td>\n",
       "      <td>0</td>\n",
       "      <td>3</td>\n",
       "      <td>0</td>\n",
       "      <td>1</td>\n",
       "      <td>3</td>\n",
       "      <td>1</td>\n",
       "    </tr>\n",
       "    <tr>\n",
       "      <th>3</th>\n",
       "      <td>1</td>\n",
       "      <td>2</td>\n",
       "      <td>104</td>\n",
       "      <td>67</td>\n",
       "      <td>2</td>\n",
       "      <td>20</td>\n",
       "      <td>1</td>\n",
       "      <td>2</td>\n",
       "      <td>2</td>\n",
       "      <td>1</td>\n",
       "    </tr>\n",
       "    <tr>\n",
       "      <th>5</th>\n",
       "      <td>3</td>\n",
       "      <td>1</td>\n",
       "      <td>1887</td>\n",
       "      <td>4130</td>\n",
       "      <td>62</td>\n",
       "      <td>7</td>\n",
       "      <td>2</td>\n",
       "      <td>31</td>\n",
       "      <td>10</td>\n",
       "      <td>1</td>\n",
       "    </tr>\n",
       "    <tr>\n",
       "      <th>7</th>\n",
       "      <td>3</td>\n",
       "      <td>3</td>\n",
       "      <td>5833</td>\n",
       "      <td>3209</td>\n",
       "      <td>108</td>\n",
       "      <td>161</td>\n",
       "      <td>10</td>\n",
       "      <td>9</td>\n",
       "      <td>184</td>\n",
       "      <td>1</td>\n",
       "    </tr>\n",
       "  </tbody>\n",
       "</table>\n",
       "</div>"
      ]
     },
     "execution_count": 1,
     "metadata": {},
     "output_type": "execute_result"
    }
   ],
   "execution_count": 1
  },
  {
   "cell_type": "markdown",
   "id": "dc7fe106-4d3b-4639-bf92-1de2b008e6b3",
   "metadata": {},
   "source": [
    "### Removing Outliers: Branch lvl 1 : No Women features"
   ]
  },
  {
   "cell_type": "code",
   "id": "12de0e0f-eddb-49a4-8800-58b6ecd9bba5",
   "metadata": {
    "ExecuteTime": {
     "end_time": "2024-04-19T01:50:20.941068Z",
     "start_time": "2024-04-19T01:50:20.923195Z"
    }
   },
   "source": [
    "numeric_df = df[numeric_features]\n",
    "\n",
    "# Calculate the Interquartile Range (IQR) for each numeric feature\n",
    "Q1 = numeric_df.quantile(0.25)\n",
    "Q3 = numeric_df.quantile(0.75)\n",
    "IQR = Q3 - Q1\n",
    "\n",
    "# Identify outliers using the IQR method for the subset of columns\n",
    "outliers = ((numeric_df < (Q1 - 1.5 * IQR)) | (numeric_df > (Q3 + 1.5 * IQR))).sum()\n",
    "\n",
    "# Count outliers for each feature\n",
    "print(\"Number of outliers for each feature:\")\n",
    "print(outliers)\n",
    "\n",
    "# Remove outliers from the dataset\n",
    "df = df[~((numeric_df < (Q1 - 1.5 * IQR)) | (numeric_df > (Q3 + 1.5 * IQR))).any(axis=1)]\n",
    "\n",
    "# Print the shape of the cleaned dataset\n",
    "print(\"Shape of the cleaned dataset after removing outliers:\", df.shape)"
   ],
   "outputs": [
    {
     "name": "stdout",
     "output_type": "stream",
     "text": [
      "Number of outliers for each feature:\n",
      "E_NEds            0\n",
      "E_Bpag            0\n",
      "NEds            501\n",
      "NDays             0\n",
      "NPcreated       429\n",
      "ns_user         397\n",
      "ns_wikipedia    526\n",
      "ns_talk         461\n",
      "ns_userTalk     452\n",
      "dtype: int64\n",
      "Shape of the cleaned dataset after removing outliers: (2175, 10)\n"
     ]
    }
   ],
   "execution_count": 2
  },
  {
   "cell_type": "markdown",
   "id": "ef56f2f2-5c09-4511-9bb5-b392badc66e2",
   "metadata": {},
   "source": [
    "### Normalizing features: Branch lvl 2: BoxCox"
   ]
  },
  {
   "cell_type": "code",
   "id": "6ec739dd-b95d-4c02-b6d6-ebbbec40583c",
   "metadata": {
    "ExecuteTime": {
     "end_time": "2024-04-19T01:50:42.458561Z",
     "start_time": "2024-04-19T01:50:42.437574Z"
    }
   },
   "source": [
    "# Apply Box-Cox transformation (requires positive values)\n",
    "from scipy.stats import boxcox\n",
    "import numpy as np\n",
    "\n",
    "df[numeric_features] = df[numeric_features].apply(lambda x: np.log(x + 1))\n",
    "# boxcox_features.head()\n",
    "\n",
    "df.head()"
   ],
   "outputs": [
    {
     "data": {
      "text/plain": [
       "      E_NEds    E_Bpag      NEds     NDays  NPcreated   ns_user  ns_wikipedia  \\\n",
       "2   0.000000  1.098612  4.060443  7.982075   0.000000  1.386294      0.000000   \n",
       "3   0.693147  1.098612  4.653960  4.219508   1.098612  3.044522      0.693147   \n",
       "13  0.693147  1.386294  4.736198  5.187386   1.386294  3.135494      0.000000   \n",
       "16  0.693147  1.098612  4.969813  7.099202   0.693147  3.091042      0.693147   \n",
       "21  1.098612  0.693147  6.049733  6.864848   1.609438  2.397895      1.791759   \n",
       "\n",
       "     ns_talk  ns_userTalk  gender  \n",
       "2   0.693147     1.386294       1  \n",
       "3   1.098612     1.098612       1  \n",
       "13  1.098612     1.098612       1  \n",
       "16  0.000000     1.791759       1  \n",
       "21  1.098612     2.484907       1  "
      ],
      "text/html": [
       "<div>\n",
       "<style scoped>\n",
       "    .dataframe tbody tr th:only-of-type {\n",
       "        vertical-align: middle;\n",
       "    }\n",
       "\n",
       "    .dataframe tbody tr th {\n",
       "        vertical-align: top;\n",
       "    }\n",
       "\n",
       "    .dataframe thead th {\n",
       "        text-align: right;\n",
       "    }\n",
       "</style>\n",
       "<table border=\"1\" class=\"dataframe\">\n",
       "  <thead>\n",
       "    <tr style=\"text-align: right;\">\n",
       "      <th></th>\n",
       "      <th>E_NEds</th>\n",
       "      <th>E_Bpag</th>\n",
       "      <th>NEds</th>\n",
       "      <th>NDays</th>\n",
       "      <th>NPcreated</th>\n",
       "      <th>ns_user</th>\n",
       "      <th>ns_wikipedia</th>\n",
       "      <th>ns_talk</th>\n",
       "      <th>ns_userTalk</th>\n",
       "      <th>gender</th>\n",
       "    </tr>\n",
       "  </thead>\n",
       "  <tbody>\n",
       "    <tr>\n",
       "      <th>2</th>\n",
       "      <td>0.000000</td>\n",
       "      <td>1.098612</td>\n",
       "      <td>4.060443</td>\n",
       "      <td>7.982075</td>\n",
       "      <td>0.000000</td>\n",
       "      <td>1.386294</td>\n",
       "      <td>0.000000</td>\n",
       "      <td>0.693147</td>\n",
       "      <td>1.386294</td>\n",
       "      <td>1</td>\n",
       "    </tr>\n",
       "    <tr>\n",
       "      <th>3</th>\n",
       "      <td>0.693147</td>\n",
       "      <td>1.098612</td>\n",
       "      <td>4.653960</td>\n",
       "      <td>4.219508</td>\n",
       "      <td>1.098612</td>\n",
       "      <td>3.044522</td>\n",
       "      <td>0.693147</td>\n",
       "      <td>1.098612</td>\n",
       "      <td>1.098612</td>\n",
       "      <td>1</td>\n",
       "    </tr>\n",
       "    <tr>\n",
       "      <th>13</th>\n",
       "      <td>0.693147</td>\n",
       "      <td>1.386294</td>\n",
       "      <td>4.736198</td>\n",
       "      <td>5.187386</td>\n",
       "      <td>1.386294</td>\n",
       "      <td>3.135494</td>\n",
       "      <td>0.000000</td>\n",
       "      <td>1.098612</td>\n",
       "      <td>1.098612</td>\n",
       "      <td>1</td>\n",
       "    </tr>\n",
       "    <tr>\n",
       "      <th>16</th>\n",
       "      <td>0.693147</td>\n",
       "      <td>1.098612</td>\n",
       "      <td>4.969813</td>\n",
       "      <td>7.099202</td>\n",
       "      <td>0.693147</td>\n",
       "      <td>3.091042</td>\n",
       "      <td>0.693147</td>\n",
       "      <td>0.000000</td>\n",
       "      <td>1.791759</td>\n",
       "      <td>1</td>\n",
       "    </tr>\n",
       "    <tr>\n",
       "      <th>21</th>\n",
       "      <td>1.098612</td>\n",
       "      <td>0.693147</td>\n",
       "      <td>6.049733</td>\n",
       "      <td>6.864848</td>\n",
       "      <td>1.609438</td>\n",
       "      <td>2.397895</td>\n",
       "      <td>1.791759</td>\n",
       "      <td>1.098612</td>\n",
       "      <td>2.484907</td>\n",
       "      <td>1</td>\n",
       "    </tr>\n",
       "  </tbody>\n",
       "</table>\n",
       "</div>"
      ]
     },
     "execution_count": 4,
     "metadata": {},
     "output_type": "execute_result"
    }
   ],
   "execution_count": 4
  },
  {
   "cell_type": "markdown",
   "id": "3fc99ef4-ef22-4bfd-a3e9-5a38af85f36c",
   "metadata": {},
   "source": [
    "## Bootstrap and cross validation splitting"
   ]
  },
  {
   "cell_type": "code",
   "id": "81c727c7-1371-46fe-9839-b48b293ec919",
   "metadata": {
    "ExecuteTime": {
     "end_time": "2024-04-19T01:50:47.984868Z",
     "start_time": "2024-04-19T01:50:47.916788Z"
    }
   },
   "source": [
    "from sklearn.utils import resample\n",
    "import numpy as np\n",
    "from sklearn.preprocessing import StandardScaler\n",
    "from sklearn.model_selection import train_test_split, cross_val_score\n",
    "\n",
    "print(df.columns)\n",
    "\n",
    "# Separate features (X) and target variable (y)\n",
    "X = df.drop('gender', axis=1)  \n",
    "y = df['gender']\n",
    "\n",
    "# Apply log transformation to positive-valued features\n",
    "X_transformed = X[numeric_features].apply(lambda x: np.log(x + 1))\n",
    "\n",
    "# Scale the input features\n",
    "scaler = StandardScaler()\n",
    "X_scaled = scaler.fit_transform(X_transformed)\n",
    "\n",
    "# Split the data into training set for cross-validation and holdout set for assessment\n",
    "X_train, X_holdout, y_train, y_holdout = train_test_split(X_scaled, y, test_size=0.2, random_state=42)\n",
    "\n",
    "# Separate majority and minority classes\n",
    "X_majority = X_train[y_train == 1]  # Majority class (male)\n",
    "X_minority = X_train[y_train == 2]  # Minority class (female)\n",
    "\n",
    "# Bootstrap resample the minority class to balance the dataset\n",
    "X_minority_resampled = resample(X_minority, n_samples=len(X_majority), replace=True, random_state=42)\n",
    "\n",
    "# Combine resampled minority class with majority class\n",
    "X_train_balanced = np.vstack((X_majority, X_minority_resampled))\n",
    "y_train_balanced = np.concatenate((np.ones(len(X_majority)), np.ones(len(X_minority_resampled)) * 2))\n",
    "\n",
    "# Shuffle the data to prevent bias\n",
    "shuffle_indices = np.random.permutation(len(X_train_balanced))\n",
    "X_train_balanced = X_train_balanced[shuffle_indices]\n",
    "y_train_balanced = y_train_balanced[shuffle_indices]\n",
    "\n",
    "# Count the number of males and females in the balanced dataset\n",
    "num_males = np.sum(y_train_balanced == 1)\n",
    "num_females = np.sum(y_train_balanced == 2)\n",
    "\n",
    "# Print the counts\n",
    "print(\"Number of Males:\", num_males)\n",
    "print(\"Number of Females:\", num_females)"
   ],
   "outputs": [
    {
     "name": "stdout",
     "output_type": "stream",
     "text": [
      "Index(['E_NEds', 'E_Bpag', 'NEds', 'NDays', 'NPcreated', 'ns_user',\n",
      "       'ns_wikipedia', 'ns_talk', 'ns_userTalk', 'gender'],\n",
      "      dtype='object')\n",
      "Number of Males: 1519\n",
      "Number of Females: 1519\n"
     ]
    }
   ],
   "execution_count": 5
  },
  {
   "cell_type": "markdown",
   "id": "60a07d6c-46d9-4387-8ab9-340a7a99db35",
   "metadata": {},
   "source": [
    "### Train model and assesment"
   ]
  },
  {
   "cell_type": "code",
   "id": "14137620-9349-4db2-a2cd-5d468aed2a22",
   "metadata": {
    "ExecuteTime": {
     "end_time": "2024-04-19T01:50:51.883195Z",
     "start_time": "2024-04-19T01:50:51.811555Z"
    }
   },
   "source": [
    "from sklearn.model_selection import cross_val_score\n",
    "from sklearn.linear_model import LogisticRegression\n",
    "# Initialize the logistic regression model with increased max_iter and L2 regularization\n",
    "logistic_reg_model = LogisticRegression(max_iter=1000, penalty='l2', C=1)  # You can adjust the C parameter for regularization strength\n",
    "\n",
    "# Perform cross-validation on the training set\n",
    "cv_scores = cross_val_score(logistic_reg_model, X_train_balanced, y_train_balanced, cv=5, scoring='recall')  # You can choose a different number of folds (e.g., cv=10)\n",
    "\n",
    "# Fit the model on the entire training set\n",
    "logistic_reg_model.fit(X_train, y_train)\n",
    "\n",
    "# Assess the model on the holdout set\n",
    "holdout_score = logistic_reg_model.score(X_holdout, y_holdout)\n",
    "\n",
    "# Print cross-validation scores\n",
    "print(\"Cross-Validation Scores:\", cv_scores)\n",
    "print(\"Mean CV Score:\", cv_scores.mean())\n",
    "print(\"Standard Deviation of CV Scores:\", cv_scores.std())\n",
    "\n",
    "# Print holdout score\n",
    "print(\"Holdout Score:\", holdout_score)"
   ],
   "outputs": [
    {
     "name": "stdout",
     "output_type": "stream",
     "text": [
      "Cross-Validation Scores: [0.72368421 0.76973684 0.73355263 0.77557756 0.73026316]\n",
      "Mean CV Score: 0.7465628799722077\n",
      "Standard Deviation of CV Scores: 0.02162066172206607\n",
      "Holdout Score: 0.9126436781609195\n"
     ]
    }
   ],
   "execution_count": 6
  },
  {
   "cell_type": "markdown",
   "id": "ee49842f-b84f-4ae0-ba18-4b75c71c2690",
   "metadata": {},
   "source": [
    "### Branch lvl 1: Women features"
   ]
  },
  {
   "cell_type": "code",
   "execution_count": 46,
   "id": "0144882b-361e-4e4c-ae40-2fa1b7c196f3",
   "metadata": {
    "scrolled": true
   },
   "outputs": [
    {
     "name": "stdout",
     "output_type": "stream",
     "text": [
      "Number of outliers for each feature:\n",
      "E_NEds            0\n",
      "E_Bpag            0\n",
      "NEds            501\n",
      "NDays             0\n",
      "NActDays        419\n",
      "NPages          499\n",
      "NPcreated       429\n",
      "ns_user         397\n",
      "ns_wikipedia    526\n",
      "ns_talk         461\n",
      "ns_userTalk     452\n",
      "ns_content      493\n",
      "dtype: int64\n",
      "Shape of the cleaned dataset after removing outliers: (2141, 19)\n"
     ]
    }
   ],
   "source": [
    "numeric_features = ['E_NEds', 'E_Bpag',\n",
    "       'NEds', 'NDays', 'NActDays', 'NPages', 'NPcreated', 'ns_user', 'ns_wikipedia', 'ns_talk', 'ns_userTalk',\n",
    "       'ns_content']\n",
    "\n",
    "# Subset the DataFrame to include only numeric features\n",
    "numeric_df = df[numeric_features]\n",
    "\n",
    "# Calculate the Interquartile Range (IQR) for each numeric feature\n",
    "Q1 = numeric_df.quantile(0.25)\n",
    "Q3 = numeric_df.quantile(0.75)\n",
    "IQR = Q3 - Q1\n",
    "\n",
    "# Identify outliers using the IQR method for the subset of columns\n",
    "outliers = ((numeric_df < (Q1 - 1.5 * IQR)) | (numeric_df > (Q3 + 1.5 * IQR))).sum()\n",
    "\n",
    "# Count outliers for each feature\n",
    "print(\"Number of outliers for each feature:\")\n",
    "print(outliers)\n",
    "\n",
    "# Remove outliers from the dataset\n",
    "df = df[~((numeric_df < (Q1 - 1.5 * IQR)) | (numeric_df > (Q3 + 1.5 * IQR))).any(axis=1)]\n",
    "\n",
    "# Print the shape of the cleaned dataset\n",
    "print(\"Shape of the cleaned dataset after removing outliers:\", df.shape)"
   ]
  },
  {
   "cell_type": "markdown",
   "id": "cede9d77-0e16-41fc-b273-d65415806624",
   "metadata": {},
   "source": [
    "### Branch lvl 2: Log transformation "
   ]
  },
  {
   "cell_type": "code",
   "execution_count": 47,
   "id": "6e36f725-a473-4a0d-a0db-7e82cd833b83",
   "metadata": {},
   "outputs": [],
   "source": [
    "import numpy as np\n",
    "\n",
    "# Apply log transformation to positive-valued features\n",
    "df_log = df[numeric_features].apply(lambda x: np.log(x + 1))"
   ]
  },
  {
   "cell_type": "markdown",
   "id": "e9a8f75e-1c39-4c09-a4cb-16ff84e2625a",
   "metadata": {},
   "source": [
    "### Branch lvl 2: Nothing"
   ]
  },
  {
   "cell_type": "code",
   "execution_count": 3,
   "id": "fa2bf90d-4634-4c7b-973a-3dd4f14c0fd7",
   "metadata": {},
   "outputs": [],
   "source": [
    "df_original = df.copy()"
   ]
  },
  {
   "cell_type": "markdown",
   "id": "246f99cb-e9f2-4212-8a2f-4c345d94f202",
   "metadata": {},
   "source": [
    "## New cross validation "
   ]
  },
  {
   "cell_type": "code",
   "execution_count": 12,
   "id": "c13e4bf4-620e-44c8-9d64-565d7499d794",
   "metadata": {},
   "outputs": [
    {
     "name": "stdout",
     "output_type": "stream",
     "text": [
      "Cross-Validation Scores: [0.99339934 0.98355263 0.99013158 0.99342105 0.99013158]\n",
      "Mean CV Score: 0.9901272364078514\n",
      "Standard Deviation of CV Scores: 0.0035994819953162585\n",
      "Holdout Score: 0.9149425287356322\n"
     ]
    }
   ],
   "source": [
    "from sklearn.model_selection import train_test_split, cross_val_score\n",
    "from sklearn.preprocessing import StandardScaler\n",
    "from sklearn.linear_model import LogisticRegression\n",
    "import numpy as np\n",
    "\n",
    "# Separate features (X) and target variable (y)\n",
    "X = df.drop('gender', axis=1)  \n",
    "y = df['gender']\n",
    "\n",
    "# Apply log transformation to positive-valued features\n",
    "X_transformed = X[numeric_features].apply(lambda x: np.log(x + 1))\n",
    "\n",
    "# Scale the input features\n",
    "scaler = StandardScaler()\n",
    "X_scaled = scaler.fit_transform(X_transformed)\n",
    "\n",
    "# Split the data into training set for cross-validation and holdout set for assessment\n",
    "X_train, X_holdout, y_train, y_holdout = train_test_split(X_scaled, y, test_size=0.2, random_state=42)\n",
    "\n",
    "# Initialize the logistic regression model with increased max_iter\n",
    "logistic_reg_model = LogisticRegression(max_iter=1000) \n",
    "\n",
    "# Perform cross-validation on the training set\n",
    "cv_scores = cross_val_score(logistic_reg_model, X_train, y_train, cv=5, scoring='recall')  # You can choose a different number of folds (e.g., cv=10)\n",
    "\n",
    "# Fit the model on the entire training set\n",
    "logistic_reg_model.fit(X_train, y_train)\n",
    "\n",
    "# Assess the model on the holdout set\n",
    "holdout_score = logistic_reg_model.score(X_holdout, y_holdout)\n",
    "\n",
    "# Print cross-validation scores\n",
    "print(\"Cross-Validation Scores:\", cv_scores)\n",
    "print(\"Mean CV Score:\", cv_scores.mean())\n",
    "print(\"Standard Deviation of CV Scores:\", cv_scores.std())\n",
    "\n",
    "# Print holdout score\n",
    "print(\"Holdout Score:\", holdout_score)\n"
   ]
  },
  {
   "cell_type": "markdown",
   "id": "5e431d92-94b3-424f-b1ce-7bda56f7f9d4",
   "metadata": {},
   "source": [
    "## Regularization"
   ]
  },
  {
   "cell_type": "code",
   "execution_count": 16,
   "id": "d5341471-08d2-4f77-afed-c85f3dfcc1f3",
   "metadata": {},
   "outputs": [],
   "source": [
    "from sklearn.model_selection import train_test_split, cross_val_score\n",
    "from sklearn.preprocessing import StandardScaler\n",
    "from sklearn.linear_model import LogisticRegression\n",
    "import numpy as np\n",
    "\n",
    "# Separate features (X) and target variable (y)\n",
    "X = df.drop('gender', axis=1)  \n",
    "y = df['gender']\n",
    "\n",
    "# Apply log transformation to positive-valued features\n",
    "X_transformed = X[numeric_features].apply(lambda x: np.log(x + 1))\n",
    "\n",
    "# Scale the input features\n",
    "scaler = StandardScaler()\n",
    "X_scaled = scaler.fit_transform(X_transformed)\n",
    "\n",
    "# Split the data into training set for cross-validation and holdout set for assessment\n",
    "X_train, X_holdout, y_train, y_holdout = train_test_split(X_scaled, y, test_size=0.2, random_state=42)\n"
   ]
  },
  {
   "cell_type": "code",
   "execution_count": 20,
   "id": "977b5e8a-1e15-4ccc-949e-508e80a2138b",
   "metadata": {},
   "outputs": [
    {
     "name": "stdout",
     "output_type": "stream",
     "text": [
      "Cross-Validation Scores: [1. 1. 1. 1. 1.]\n",
      "Mean CV Score: 1.0\n",
      "Standard Deviation of CV Scores: 0.0\n",
      "Holdout Score: 0.9103448275862069\n"
     ]
    }
   ],
   "source": [
    "# Initialize the logistic regression model with increased max_iter and L2 regularization\n",
    "logistic_reg_model = LogisticRegression(max_iter=1000, penalty='l2', C=0.01)  # You can adjust the C parameter for regularization strength\n",
    "\n",
    "# Perform cross-validation on the training set\n",
    "cv_scores = cross_val_score(logistic_reg_model, X_train, y_train, cv=5, scoring='recall')  # You can choose a different number of folds (e.g., cv=10)\n",
    "\n",
    "# Fit the model on the entire training set\n",
    "logistic_reg_model.fit(X_train, y_train)\n",
    "\n",
    "# Assess the model on the holdout set\n",
    "holdout_score = logistic_reg_model.score(X_holdout, y_holdout)\n",
    "\n",
    "# Print cross-validation scores\n",
    "print(\"Cross-Validation Scores:\", cv_scores)\n",
    "print(\"Mean CV Score:\", cv_scores.mean())\n",
    "print(\"Standard Deviation of CV Scores:\", cv_scores.std())\n",
    "\n",
    "# Print holdout score\n",
    "print(\"Holdout Score:\", holdout_score)"
   ]
  },
  {
   "cell_type": "code",
   "execution_count": 49,
   "id": "7a83bae3-829f-4d17-99ee-c750a52dbfcf",
   "metadata": {},
   "outputs": [
    {
     "data": {
      "image/png": "[encoded data removed]",
      "text/plain": [
       "<Figure size 1000x600 with 1 Axes>"
      ]
     },
     "metadata": {},
     "output_type": "display_data"
    }
   ],
   "source": [
    "import matplotlib.pyplot as plt\n",
    "\n",
    "# Get feature importances (coefficients) from the logistic regression model\n",
    "feature_importances = np.abs(logistic_reg_model.coef_[0])  # Absolute values of coefficients\n",
    "\n",
    "# Get the names of the features\n",
    "feature_names = X_transformed.columns  # Use the transformed features instead of the original features\n",
    "\n",
    "# Plot the feature importances\n",
    "plt.figure(figsize=(10, 6))\n",
    "plt.barh(feature_names, feature_importances, color='skyblue')\n",
    "plt.xlabel('Absolute Coefficient Magnitude')\n",
    "plt.ylabel('Feature')\n",
    "plt.title('Logistic Regression Feature Importances')\n",
    "plt.gca().invert_yaxis()  # Invert y-axis to have the most important feature at the top\n",
    "plt.show()\n",
    "\n",
    "\n"
   ]
  },
  {
   "cell_type": "markdown",
   "id": "a90246f7-de9c-4365-aed3-52ed89d7858c",
   "metadata": {},
   "source": [
    "## Logistic Regression women features"
   ]
  },
  {
   "cell_type": "code",
   "execution_count": 4,
   "id": "feb2a1b8-f36d-4959-b197-5b09d57c205c",
   "metadata": {
    "scrolled": true
   },
   "outputs": [
    {
     "name": "stdout",
     "output_type": "stream",
     "text": [
      "Cross-Validation Scores: [0.99734748 0.99734748 0.99734043 0.99734043 1.        ]\n",
      "Mean CV Score: 0.9978751622552062\n",
      "Standard Deviation of CV Scores: 0.0010624235566987458\n"
     ]
    }
   ],
   "source": [
    "from sklearn.model_selection import cross_val_score\n",
    "from sklearn.preprocessing import StandardScaler\n",
    "from sklearn.linear_model import LogisticRegression\n",
    "import numpy as np\n",
    "\n",
    "# Apply log transformation to positive-valued features\n",
    "df = df[numeric_features].apply(lambda x: np.log(x + 1))\n",
    "# Scale the input features\n",
    "scaler = StandardScaler()\n",
    "X_scaled = scaler.fit_transform(X)\n",
    "\n",
    "# Initialize the logistic regression model with increased max_iter\n",
    "logistic_reg_model = LogisticRegression(max_iter=1000) \n",
    "\n",
    "# Perform cross-validation\n",
    "cv_scores = cross_val_score(logistic_reg_model, X_scaled, y, cv=5, scoring='recall')  # You can choose a different number of folds (e.g., cv=10)\n",
    "\n",
    "# Print cross-validation scores\n",
    "print(\"Cross-Validation Scores:\", cv_scores)\n",
    "print(\"Mean CV Score:\", cv_scores.mean())\n",
    "print(\"Standard Deviation of CV Scores:\", cv_scores.std())\n"
   ]
  },
  {
   "cell_type": "code",
   "execution_count": 5,
   "id": "f8bfc75e-87cd-4967-a12a-80129d05d5c6",
   "metadata": {},
   "outputs": [
    {
     "data": {
      "image/png": "[encoded data removed]",
      "text/plain": [
       "<Figure size 1000x600 with 1 Axes>"
      ]
     },
     "metadata": {},
     "output_type": "display_data"
    }
   ],
   "source": [
    "import matplotlib.pyplot as plt\n",
    "\n",
    "# Fit the logistic regression model\n",
    "logistic_reg_model.fit(X_scaled, y)\n",
    "\n",
    "# Get feature importances (coefficients)\n",
    "feature_importances = np.abs(logistic_reg_model.coef_[0])  # Absolute values of coefficients\n",
    "\n",
    "# Get the names of the features\n",
    "feature_names = X.columns\n",
    "\n",
    "# Plot the feature importances\n",
    "plt.figure(figsize=(10, 6))\n",
    "plt.barh(feature_names, feature_importances, color='skyblue')\n",
    "plt.xlabel('Absolute Coefficient Magnitude')\n",
    "plt.ylabel('Feature')\n",
    "plt.title('Logistic Regression Feature Importances')\n",
    "plt.gca().invert_yaxis()  # Invert y-axis to have the most important feature at the top\n",
    "plt.show()\n",
    "\n"
   ]
  },
  {
   "cell_type": "markdown",
   "id": "1f3e576c-235f-48c4-8429-11465a4d2e79",
   "metadata": {},
   "source": [
    "## Gradient Boosting Classifier"
   ]
  },
  {
   "cell_type": "code",
   "execution_count": 24,
   "id": "ff0a404c-1916-4328-bff0-3e7d9347e015",
   "metadata": {},
   "outputs": [
    {
     "name": "stdout",
     "output_type": "stream",
     "text": [
      "Cross-Validation Scores: [0.97359736 0.96710526 0.97697368 0.99013158 0.98355263]\n",
      "Mean CV Score: 0.9782721035261421\n",
      "Standard Deviation of CV Scores: 0.007959504756150832\n",
      "Holdout Score: 0.8827586206896552\n"
     ]
    }
   ],
   "source": [
    "from sklearn.model_selection import train_test_split, cross_val_score\n",
    "from sklearn.preprocessing import StandardScaler\n",
    "from sklearn.ensemble import GradientBoostingClassifier\n",
    "import numpy as np\n",
    "\n",
    "# Separate features (X) and target variable (y)\n",
    "X = df.drop('gender', axis=1)  \n",
    "y = df['gender']\n",
    "\n",
    "# Apply log transformation to positive-valued features\n",
    "X_transformed = X[numeric_features].apply(lambda x: np.log(x + 1))\n",
    "\n",
    "# Scale the input features\n",
    "scaler = StandardScaler()\n",
    "X_scaled = scaler.fit_transform(X_transformed)\n",
    "\n",
    "# Split the data into training set for cross-validation and holdout set for assessment\n",
    "X_train, X_holdout, y_train, y_holdout = train_test_split(X_scaled, y, test_size=0.2, random_state=42)\n",
    "\n",
    "# Initialize the logistic regression model with increased max_iter\n",
    "gb_classifier = GradientBoostingClassifier()\n",
    "\n",
    "# Perform cross-validation on the training set\n",
    "cv_scores = cross_val_score(gb_classifier, X_train, y_train, cv=5, scoring='recall')  # You can choose a different number of folds (e.g., cv=10)\n",
    "\n",
    "# Fit the model on the entire training set\n",
    "gb_classifier.fit(X_train, y_train)\n",
    "\n",
    "# Assess the model on the holdout set\n",
    "holdout_score = gb_classifier.score(X_holdout, y_holdout)\n",
    "\n",
    "# Print cross-validation scores\n",
    "print(\"Cross-Validation Scores:\", cv_scores)\n",
    "print(\"Mean CV Score:\", cv_scores.mean())\n",
    "print(\"Standard Deviation of CV Scores:\", cv_scores.std())\n",
    "\n",
    "# Print holdout score\n",
    "print(\"Holdout Score:\", holdout_score)\n"
   ]
  },
  {
   "cell_type": "markdown",
   "id": "19aeebf7-d25b-4e4d-9546-df2c211c8437",
   "metadata": {},
   "source": [
    "## Random Forest"
   ]
  },
  {
   "cell_type": "code",
   "execution_count": 31,
   "id": "2eaf779c-f315-45d3-8448-2e1bac0b6d9a",
   "metadata": {},
   "outputs": [
    {
     "name": "stdout",
     "output_type": "stream",
     "text": [
      "Cross-Validation Scores: [0.98019802 0.97368421 0.99342105 0.98684211 0.97368421]\n",
      "Mean CV Score: 0.9815659197498696\n",
      "Standard Deviation of CV Scores: 0.007674583246670287\n",
      "Holdout Score: 0.8942528735632184\n"
     ]
    }
   ],
   "source": [
    "from sklearn.model_selection import train_test_split, cross_val_score\n",
    "from sklearn.preprocessing import StandardScaler\n",
    "from sklearn.ensemble import RandomForestClassifier\n",
    "import numpy as np\n",
    "\n",
    "# Separate features (X) and target variable (y)\n",
    "X = df.drop('gender', axis=1)  \n",
    "y = df['gender']\n",
    "\n",
    "# Apply log transformation to positive-valued features\n",
    "X_transformed = X[numeric_features].apply(lambda x: np.log(x + 1))\n",
    "\n",
    "# Scale the input features\n",
    "scaler = StandardScaler()\n",
    "X_scaled = scaler.fit_transform(X_transformed)\n",
    "\n",
    "# Split the data into training set for cross-validation and holdout set for assessment\n",
    "X_train, X_holdout, y_train, y_holdout = train_test_split(X_scaled, y, test_size=0.2, random_state=42)\n",
    "\n",
    "# Initialize the logistic regression model with increased max_iter\n",
    "rf_classifier = RandomForestClassifier()\n",
    "\n",
    "# Perform cross-validation on the training set\n",
    "cv_scores = cross_val_score(rf_classifier, X_train, y_train, cv=5, scoring='recall')  # You can choose a different number of folds (e.g., cv=10)\n",
    "\n",
    "# Fit the model on the entire training set\n",
    "rf_classifier.fit(X_train, y_train)\n",
    "\n",
    "# Assess the model on the holdout set\n",
    "holdout_score = rf_classifier.score(X_holdout, y_holdout)\n",
    "\n",
    "# Print cross-validation scores\n",
    "print(\"Cross-Validation Scores:\", cv_scores)\n",
    "print(\"Mean CV Score:\", cv_scores.mean())\n",
    "print(\"Standard Deviation of CV Scores:\", cv_scores.std())\n",
    "\n",
    "# Print holdout score\n",
    "print(\"Holdout Score:\", holdout_score)\n"
   ]
  },
  {
   "cell_type": "code",
   "execution_count": null,
   "id": "843020e3-f673-450b-b978-caed036373d2",
   "metadata": {},
   "outputs": [],
   "source": []
  }
 ],
 "metadata": {
  "kernelspec": {
   "display_name": "Python 3 (ipykernel)",
   "language": "python",
   "name": "python3"
  },
  "language_info": {
   "codemirror_mode": {
    "name": "ipython",
    "version": 3
   },
   "file_extension": ".py",
   "mimetype": "text/x-python",
   "name": "python",
   "nbconvert_exporter": "python",
   "pygments_lexer": "ipython3",
   "version": "3.8.10"
  }
 },
 "nbformat": 4,
 "nbformat_minor": 5
}
