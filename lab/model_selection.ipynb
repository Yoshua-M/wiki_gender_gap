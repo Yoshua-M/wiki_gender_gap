{
 "cells": [
  {
   "cell_type": "markdown",
   "id": "457328cf-9618-4054-bb97-dc295013f613",
   "metadata": {},
   "source": [
    "# Data pipeline"
   ]
  },
  {
   "cell_type": "markdown",
   "id": "5a826cf0-5180-4bba-8d91-66697041ef04",
   "metadata": {},
   "source": [
    "## Feature selection"
   ]
  },
  {
   "cell_type": "code",
   "id": "a4211cdb-f472-44c9-a48e-4cbb00effa96",
   "metadata": {
    "ExecuteTime": {
     "end_time": "2024-04-19T20:48:14.732775Z",
     "start_time": "2024-04-19T20:48:14.699982Z"
    }
   },
   "source": [
    "import pandas as pd\n",
    "\n",
    "numeric_features = ['E_NEds', 'E_Bpag',\n",
    "                    'NEds', 'NDays', 'NPcreated', 'ns_user', 'ns_wikipedia', 'ns_talk', 'ns_userTalk'\n",
    "                    ]\n",
    "df = pd.read_csv('mlops_data.csv')\n",
    "df = df[df['gender'] != 0]\n",
    "\n",
    "df = df[numeric_features+['gender']]\n",
    "\n",
    "print(f'Gender-defined records: {len(df)}')\n",
    "df.head()"
   ],
   "outputs": [
    {
     "name": "stdout",
     "output_type": "stream",
     "text": [
      "Gender-defined records: 3145\n"
     ]
    },
    {
     "data": {
      "text/plain": [
       "   E_NEds  E_Bpag  NEds  NDays  NPcreated  ns_user  ns_wikipedia  ns_talk  \\\n",
       "0       2       2   543     56          4       91            28        6   \n",
       "2       0       2    57   2927          0        3             0        1   \n",
       "3       1       2   104     67          2       20             1        2   \n",
       "5       3       1  1887   4130         62        7             2       31   \n",
       "7       3       3  5833   3209        108      161            10        9   \n",
       "\n",
       "   ns_userTalk  gender  \n",
       "0           76       1  \n",
       "2            3       1  \n",
       "3            2       1  \n",
       "5           10       1  \n",
       "7          184       1  "
      ],
      "text/html": [
       "<div>\n",
       "<style scoped>\n",
       "    .dataframe tbody tr th:only-of-type {\n",
       "        vertical-align: middle;\n",
       "    }\n",
       "\n",
       "    .dataframe tbody tr th {\n",
       "        vertical-align: top;\n",
       "    }\n",
       "\n",
       "    .dataframe thead th {\n",
       "        text-align: right;\n",
       "    }\n",
       "</style>\n",
       "<table border=\"1\" class=\"dataframe\">\n",
       "  <thead>\n",
       "    <tr style=\"text-align: right;\">\n",
       "      <th></th>\n",
       "      <th>E_NEds</th>\n",
       "      <th>E_Bpag</th>\n",
       "      <th>NEds</th>\n",
       "      <th>NDays</th>\n",
       "      <th>NPcreated</th>\n",
       "      <th>ns_user</th>\n",
       "      <th>ns_wikipedia</th>\n",
       "      <th>ns_talk</th>\n",
       "      <th>ns_userTalk</th>\n",
       "      <th>gender</th>\n",
       "    </tr>\n",
       "  </thead>\n",
       "  <tbody>\n",
       "    <tr>\n",
       "      <th>0</th>\n",
       "      <td>2</td>\n",
       "      <td>2</td>\n",
       "      <td>543</td>\n",
       "      <td>56</td>\n",
       "      <td>4</td>\n",
       "      <td>91</td>\n",
       "      <td>28</td>\n",
       "      <td>6</td>\n",
       "      <td>76</td>\n",
       "      <td>1</td>\n",
       "    </tr>\n",
       "    <tr>\n",
       "      <th>2</th>\n",
       "      <td>0</td>\n",
       "      <td>2</td>\n",
       "      <td>57</td>\n",
       "      <td>2927</td>\n",
       "      <td>0</td>\n",
       "      <td>3</td>\n",
       "      <td>0</td>\n",
       "      <td>1</td>\n",
       "      <td>3</td>\n",
       "      <td>1</td>\n",
       "    </tr>\n",
       "    <tr>\n",
       "      <th>3</th>\n",
       "      <td>1</td>\n",
       "      <td>2</td>\n",
       "      <td>104</td>\n",
       "      <td>67</td>\n",
       "      <td>2</td>\n",
       "      <td>20</td>\n",
       "      <td>1</td>\n",
       "      <td>2</td>\n",
       "      <td>2</td>\n",
       "      <td>1</td>\n",
       "    </tr>\n",
       "    <tr>\n",
       "      <th>5</th>\n",
       "      <td>3</td>\n",
       "      <td>1</td>\n",
       "      <td>1887</td>\n",
       "      <td>4130</td>\n",
       "      <td>62</td>\n",
       "      <td>7</td>\n",
       "      <td>2</td>\n",
       "      <td>31</td>\n",
       "      <td>10</td>\n",
       "      <td>1</td>\n",
       "    </tr>\n",
       "    <tr>\n",
       "      <th>7</th>\n",
       "      <td>3</td>\n",
       "      <td>3</td>\n",
       "      <td>5833</td>\n",
       "      <td>3209</td>\n",
       "      <td>108</td>\n",
       "      <td>161</td>\n",
       "      <td>10</td>\n",
       "      <td>9</td>\n",
       "      <td>184</td>\n",
       "      <td>1</td>\n",
       "    </tr>\n",
       "  </tbody>\n",
       "</table>\n",
       "</div>"
      ]
     },
     "execution_count": 1,
     "metadata": {},
     "output_type": "execute_result"
    }
   ],
   "execution_count": 1
  },
  {
   "cell_type": "markdown",
   "id": "dc7fe106-4d3b-4639-bf92-1de2b008e6b3",
   "metadata": {},
   "source": "## Removing Outliers: Branch lvl 1 : No Women features"
  },
  {
   "cell_type": "code",
   "id": "12de0e0f-eddb-49a4-8800-58b6ecd9bba5",
   "metadata": {
    "ExecuteTime": {
     "end_time": "2024-04-19T20:48:14.761586Z",
     "start_time": "2024-04-19T20:48:14.743958Z"
    }
   },
   "source": [
    "numeric_df = df[numeric_features]\n",
    "\n",
    "# Calculate the Interquartile Range (IQR) for each numeric feature\n",
    "Q1 = numeric_df.quantile(0.25)\n",
    "Q3 = numeric_df.quantile(0.75)\n",
    "IQR = Q3 - Q1\n",
    "\n",
    "# Identify outliers using the IQR method for the subset of columns\n",
    "outliers = ((numeric_df < (Q1 - 1.5 * IQR)) | (numeric_df > (Q3 + 1.5 * IQR))).sum()\n",
    "\n",
    "# Count outliers for each feature\n",
    "print(\"Number of outliers for each feature:\")\n",
    "print(outliers)\n",
    "\n",
    "# Remove outliers from the dataset\n",
    "df = df[~((numeric_df < (Q1 - 1.5 * IQR)) | (numeric_df > (Q3 + 1.5 * IQR))).any(axis=1)]\n",
    "\n",
    "# Print the shape of the cleaned dataset\n",
    "print(\"Shape of the cleaned dataset after removing outliers:\", df.shape)"
   ],
   "outputs": [
    {
     "name": "stdout",
     "output_type": "stream",
     "text": [
      "Number of outliers for each feature:\n",
      "E_NEds            0\n",
      "E_Bpag            0\n",
      "NEds            501\n",
      "NDays             0\n",
      "NPcreated       429\n",
      "ns_user         397\n",
      "ns_wikipedia    526\n",
      "ns_talk         461\n",
      "ns_userTalk     452\n",
      "dtype: int64\n",
      "Shape of the cleaned dataset after removing outliers: (2175, 10)\n"
     ]
    }
   ],
   "execution_count": 2
  },
  {
   "cell_type": "markdown",
   "id": "ef56f2f2-5c09-4511-9bb5-b392badc66e2",
   "metadata": {},
   "source": "## Normalizing features: Branch lvl 2: BoxCox"
  },
  {
   "cell_type": "code",
   "id": "6ec739dd-b95d-4c02-b6d6-ebbbec40583c",
   "metadata": {
    "ExecuteTime": {
     "end_time": "2024-04-19T20:48:14.781139Z",
     "start_time": "2024-04-19T20:48:14.764367Z"
    }
   },
   "source": [
    "# Apply Box-Cox transformation (requires positive values)\n",
    "from scipy.stats import boxcox\n",
    "import numpy as np\n",
    "\n",
    "df[numeric_features] = df[numeric_features].apply(lambda x: np.log(x + 1))\n",
    "# boxcox_features.head()\n",
    "\n",
    "df.head()"
   ],
   "outputs": [
    {
     "data": {
      "text/plain": [
       "      E_NEds    E_Bpag      NEds     NDays  NPcreated   ns_user  ns_wikipedia  \\\n",
       "2   0.000000  1.098612  4.060443  7.982075   0.000000  1.386294      0.000000   \n",
       "3   0.693147  1.098612  4.653960  4.219508   1.098612  3.044522      0.693147   \n",
       "13  0.693147  1.386294  4.736198  5.187386   1.386294  3.135494      0.000000   \n",
       "16  0.693147  1.098612  4.969813  7.099202   0.693147  3.091042      0.693147   \n",
       "21  1.098612  0.693147  6.049733  6.864848   1.609438  2.397895      1.791759   \n",
       "\n",
       "     ns_talk  ns_userTalk  gender  \n",
       "2   0.693147     1.386294       1  \n",
       "3   1.098612     1.098612       1  \n",
       "13  1.098612     1.098612       1  \n",
       "16  0.000000     1.791759       1  \n",
       "21  1.098612     2.484907       1  "
      ],
      "text/html": [
       "<div>\n",
       "<style scoped>\n",
       "    .dataframe tbody tr th:only-of-type {\n",
       "        vertical-align: middle;\n",
       "    }\n",
       "\n",
       "    .dataframe tbody tr th {\n",
       "        vertical-align: top;\n",
       "    }\n",
       "\n",
       "    .dataframe thead th {\n",
       "        text-align: right;\n",
       "    }\n",
       "</style>\n",
       "<table border=\"1\" class=\"dataframe\">\n",
       "  <thead>\n",
       "    <tr style=\"text-align: right;\">\n",
       "      <th></th>\n",
       "      <th>E_NEds</th>\n",
       "      <th>E_Bpag</th>\n",
       "      <th>NEds</th>\n",
       "      <th>NDays</th>\n",
       "      <th>NPcreated</th>\n",
       "      <th>ns_user</th>\n",
       "      <th>ns_wikipedia</th>\n",
       "      <th>ns_talk</th>\n",
       "      <th>ns_userTalk</th>\n",
       "      <th>gender</th>\n",
       "    </tr>\n",
       "  </thead>\n",
       "  <tbody>\n",
       "    <tr>\n",
       "      <th>2</th>\n",
       "      <td>0.000000</td>\n",
       "      <td>1.098612</td>\n",
       "      <td>4.060443</td>\n",
       "      <td>7.982075</td>\n",
       "      <td>0.000000</td>\n",
       "      <td>1.386294</td>\n",
       "      <td>0.000000</td>\n",
       "      <td>0.693147</td>\n",
       "      <td>1.386294</td>\n",
       "      <td>1</td>\n",
       "    </tr>\n",
       "    <tr>\n",
       "      <th>3</th>\n",
       "      <td>0.693147</td>\n",
       "      <td>1.098612</td>\n",
       "      <td>4.653960</td>\n",
       "      <td>4.219508</td>\n",
       "      <td>1.098612</td>\n",
       "      <td>3.044522</td>\n",
       "      <td>0.693147</td>\n",
       "      <td>1.098612</td>\n",
       "      <td>1.098612</td>\n",
       "      <td>1</td>\n",
       "    </tr>\n",
       "    <tr>\n",
       "      <th>13</th>\n",
       "      <td>0.693147</td>\n",
       "      <td>1.386294</td>\n",
       "      <td>4.736198</td>\n",
       "      <td>5.187386</td>\n",
       "      <td>1.386294</td>\n",
       "      <td>3.135494</td>\n",
       "      <td>0.000000</td>\n",
       "      <td>1.098612</td>\n",
       "      <td>1.098612</td>\n",
       "      <td>1</td>\n",
       "    </tr>\n",
       "    <tr>\n",
       "      <th>16</th>\n",
       "      <td>0.693147</td>\n",
       "      <td>1.098612</td>\n",
       "      <td>4.969813</td>\n",
       "      <td>7.099202</td>\n",
       "      <td>0.693147</td>\n",
       "      <td>3.091042</td>\n",
       "      <td>0.693147</td>\n",
       "      <td>0.000000</td>\n",
       "      <td>1.791759</td>\n",
       "      <td>1</td>\n",
       "    </tr>\n",
       "    <tr>\n",
       "      <th>21</th>\n",
       "      <td>1.098612</td>\n",
       "      <td>0.693147</td>\n",
       "      <td>6.049733</td>\n",
       "      <td>6.864848</td>\n",
       "      <td>1.609438</td>\n",
       "      <td>2.397895</td>\n",
       "      <td>1.791759</td>\n",
       "      <td>1.098612</td>\n",
       "      <td>2.484907</td>\n",
       "      <td>1</td>\n",
       "    </tr>\n",
       "  </tbody>\n",
       "</table>\n",
       "</div>"
      ]
     },
     "execution_count": 3,
     "metadata": {},
     "output_type": "execute_result"
    }
   ],
   "execution_count": 3
  },
  {
   "cell_type": "markdown",
   "id": "3fc99ef4-ef22-4bfd-a3e9-5a38af85f36c",
   "metadata": {},
   "source": [
    "## Bootstrap and cross validation splitting"
   ]
  },
  {
   "cell_type": "code",
   "id": "81c727c7-1371-46fe-9839-b48b293ec919",
   "metadata": {
    "ExecuteTime": {
     "end_time": "2024-04-19T20:48:14.907120Z",
     "start_time": "2024-04-19T20:48:14.784548Z"
    }
   },
   "source": [
    "from sklearn.utils import resample\n",
    "import numpy as np\n",
    "from sklearn.preprocessing import StandardScaler\n",
    "from sklearn.model_selection import train_test_split, cross_val_score\n",
    "\n",
    "print(df.columns)\n",
    "\n",
    "# Separate features (X) and target variable (y)\n",
    "X = df.drop('gender', axis=1)  \n",
    "y = df['gender']\n",
    "\n",
    "# Scale the input features\n",
    "scaler = StandardScaler()\n",
    "X_scaled = scaler.fit_transform(X)\n",
    "\n",
    "# Split the data into training set for cross-validation and holdout set for assessment\n",
    "X_train, X_holdout, y_train, y_holdout = train_test_split(X_scaled, y, test_size=0.2, random_state=42)\n",
    "\n",
    "# Separate majority and minority classes\n",
    "X_majority = X_train[y_train == 1]  # Majority class (male)\n",
    "X_minority = X_train[y_train == 2]  # Minority class (female)\n",
    "\n",
    "# Bootstrap resample the minority class to balance the dataset\n",
    "X_minority_resampled = resample(X_minority, n_samples=len(X_majority), replace=True, random_state=42)\n",
    "\n",
    "# Combine resampled minority class with majority class\n",
    "X_train_balanced = np.vstack((X_majority, X_minority_resampled))\n",
    "y_train_balanced = np.concatenate((np.ones(len(X_majority)), np.ones(len(X_minority_resampled)) * 2))\n",
    "\n",
    "# Shuffle the data to prevent bias\n",
    "shuffle_indices = np.random.permutation(len(X_train_balanced))\n",
    "X_train_balanced = X_train_balanced[shuffle_indices]\n",
    "y_train_balanced = y_train_balanced[shuffle_indices]\n",
    "\n",
    "# Count the number of males and females in the balanced dataset\n",
    "num_males = np.sum(y_train_balanced == 1)\n",
    "num_females = np.sum(y_train_balanced == 2)\n",
    "\n",
    "# Print the counts\n",
    "print(\"Number of Males:\", num_males)\n",
    "print(\"Number of Females:\", num_females)"
   ],
   "outputs": [
    {
     "name": "stdout",
     "output_type": "stream",
     "text": [
      "Index(['E_NEds', 'E_Bpag', 'NEds', 'NDays', 'NPcreated', 'ns_user',\n",
      "       'ns_wikipedia', 'ns_talk', 'ns_userTalk', 'gender'],\n",
      "      dtype='object')\n",
      "Number of Males: 1519\n",
      "Number of Females: 1519\n"
     ]
    }
   ],
   "execution_count": 4
  },
  {
   "cell_type": "markdown",
   "id": "60a07d6c-46d9-4387-8ab9-340a7a99db35",
   "metadata": {},
   "source": "# Train model and assesment"
  },
  {
   "metadata": {},
   "cell_type": "markdown",
   "source": "## Logistic Regression",
   "id": "8af5f6f8497587fa"
  },
  {
   "cell_type": "code",
   "id": "14137620-9349-4db2-a2cd-5d468aed2a22",
   "metadata": {
    "ExecuteTime": {
     "end_time": "2024-04-19T20:48:15.048761Z",
     "start_time": "2024-04-19T20:48:14.908988Z"
    }
   },
   "source": [
    "from sklearn.model_selection import cross_val_score\n",
    "from sklearn.linear_model import LogisticRegression\n",
    "# Initialize the logistic regression model with increased max_iter and L2 regularization\n",
    "logistic_reg_model = LogisticRegression(max_iter=1000)  \n",
    "\n",
    "# Perform cross-validation on the training set\n",
    "cv_scores = cross_val_score(logistic_reg_model, X_train_balanced, y_train_balanced, cv=5, scoring='recall')  # You can choose a different number of folds (e.g., cv=10)\n",
    "\n",
    "# Fit the model on the entire training set\n",
    "logistic_reg_model.fit(X_train, y_train)\n",
    "\n",
    "# Assess the model on the holdout set\n",
    "holdout_score = logistic_reg_model.score(X_holdout, y_holdout)\n",
    "\n",
    "# Print cross-validation scores\n",
    "print(\"Cross-Validation Scores:\", cv_scores)\n",
    "print(\"Mean CV Score:\", cv_scores.mean())\n",
    "print(\"Standard Deviation of CV Scores:\", cv_scores.std())\n",
    "\n",
    "# Print holdout score\n",
    "print(\"Holdout Score:\", holdout_score)"
   ],
   "outputs": [
    {
     "name": "stdout",
     "output_type": "stream",
     "text": [
      "Cross-Validation Scores: [0.76973684 0.71710526 0.74342105 0.7359736  0.78618421]\n",
      "Mean CV Score: 0.7504841931561578\n",
      "Standard Deviation of CV Scores: 0.024575410653956943\n",
      "Holdout Score: 0.9149425287356322\n"
     ]
    }
   ],
   "execution_count": 5
  },
  {
   "metadata": {},
   "cell_type": "markdown",
   "source": "## Gradient Boosting",
   "id": "7b57e013929d65b7"
  },
  {
   "metadata": {
    "ExecuteTime": {
     "end_time": "2024-04-19T20:48:16.805977Z",
     "start_time": "2024-04-19T20:48:15.049813Z"
    }
   },
   "cell_type": "code",
   "source": [
    "from sklearn.ensemble import GradientBoostingClassifier\n",
    "\n",
    "gb_classifier = GradientBoostingClassifier()\n",
    "\n",
    "\n",
    "# Perform cross-validation on the training set\n",
    "cv_scores = cross_val_score(gb_classifier, X_train_balanced, y_train_balanced, cv=5, scoring='recall')  # You can choose a different number of folds (e.g., cv=10)\n",
    "\n",
    "# Fit the model on the entire training set\n",
    "gb_classifier.fit(X_train, y_train)\n",
    "\n",
    "# Assess the model on the holdout set\n",
    "holdout_score = gb_classifier.score(X_holdout, y_holdout)\n",
    "\n",
    "# Print cross-validation scores\n",
    "print(\"Cross-Validation Scores:\", cv_scores)\n",
    "print(\"Mean CV Score:\", cv_scores.mean())\n",
    "print(\"Standard Deviation of CV Scores:\", cv_scores.std())\n",
    "\n",
    "# Print holdout score\n",
    "print(\"Holdout Score:\", holdout_score)"
   ],
   "id": "4bb2c443a556b66c",
   "outputs": [
    {
     "name": "stdout",
     "output_type": "stream",
     "text": [
      "Cross-Validation Scores: [0.84210526 0.80263158 0.78289474 0.78877888 0.82894737]\n",
      "Mean CV Score: 0.809071565051242\n",
      "Standard Deviation of CV Scores: 0.022911855789609727\n",
      "Holdout Score: 0.8850574712643678\n"
     ]
    }
   ],
   "execution_count": 6
  },
  {
   "metadata": {},
   "cell_type": "markdown",
   "source": "## Random Forest",
   "id": "949fd578d67d9c1d"
  },
  {
   "metadata": {
    "ExecuteTime": {
     "end_time": "2024-04-19T20:48:18.470134Z",
     "start_time": "2024-04-19T20:48:16.807296Z"
    }
   },
   "cell_type": "code",
   "source": [
    "from sklearn.ensemble import RandomForestClassifier\n",
    "\n",
    "rf_classifier = RandomForestClassifier()\n",
    "\n",
    "\n",
    "# Perform cross-validation on the training set\n",
    "cv_scores = cross_val_score(rf_classifier, X_train_balanced, y_train_balanced, cv=5, scoring='recall')  # You can choose a different number of folds (e.g., cv=10)\n",
    "\n",
    "# Fit the model on the entire training set\n",
    "rf_classifier.fit(X_train, y_train)\n",
    "\n",
    "# Assess the model on the holdout set\n",
    "holdout_score = rf_classifier.score(X_holdout, y_holdout)\n",
    "\n",
    "# Print cross-validation scores\n",
    "print(\"Cross-Validation Scores:\", cv_scores)\n",
    "print(\"Mean CV Score:\", cv_scores.mean())\n",
    "print(\"Standard Deviation of CV Scores:\", cv_scores.std())\n",
    "\n",
    "# Print holdout score\n",
    "print(\"Holdout Score:\", holdout_score)"
   ],
   "id": "60d22e2d3e1aeb35",
   "outputs": [
    {
     "name": "stdout",
     "output_type": "stream",
     "text": [
      "Cross-Validation Scores: [0.95065789 0.96381579 0.93092105 0.94389439 0.96381579]\n",
      "Mean CV Score: 0.9506209831509468\n",
      "Standard Deviation of CV Scores: 0.01250233190799661\n",
      "Holdout Score: 0.896551724137931\n"
     ]
    }
   ],
   "execution_count": 7
  },
  {
   "metadata": {},
   "cell_type": "markdown",
   "source": "## Logistic regression importances",
   "id": "cb496e640c17ecfc"
  },
  {
   "metadata": {
    "ExecuteTime": {
     "end_time": "2024-04-19T20:48:18.659938Z",
     "start_time": "2024-04-19T20:48:18.471502Z"
    }
   },
   "cell_type": "code",
   "source": [
    "import matplotlib.pyplot as plt\n",
    "\n",
    "# Get feature importances (coefficients) from the logistic regression model\n",
    "feature_importances = np.abs(logistic_reg_model.coef_[0])  # Absolute values of coefficients\n",
    "\n",
    "# Get the names of the features\n",
    "feature_names = X.columns  # Use the transformed features instead of the original features\n",
    "\n",
    "# Plot the feature importances\n",
    "plt.figure(figsize=(10, 6))\n",
    "plt.barh(feature_names, feature_importances, color='skyblue')\n",
    "plt.xlabel('Absolute Coefficient Magnitude')\n",
    "plt.ylabel('Feature')\n",
    "plt.title('Logistic Regression Feature Importances')\n",
    "plt.gca().invert_yaxis()  # Invert y-axis to have the most important feature at the top\n",
    "plt.show()\n",
    "\n",
    "\n"
   ],
   "id": "f3528aafebebfba8",
   "outputs": [
    {
     "data": {
      "text/plain": [
       "<Figure size 1000x600 with 1 Axes>"
      ],
      "image/png": "[encoded data removed]"
     },
     "metadata": {},
     "output_type": "display_data"
    }
   ],
   "execution_count": 8
  }
 ],
 "metadata": {
  "kernelspec": {
   "display_name": "Python 3 (ipykernel)",
   "language": "python",
   "name": "python3"
  },
  "language_info": {
   "codemirror_mode": {
    "name": "ipython",
    "version": 3
   },
   "file_extension": ".py",
   "mimetype": "text/x-python",
   "name": "python",
   "nbconvert_exporter": "python",
   "pygments_lexer": "ipython3",
   "version": "3.8.10"
  }
 },
 "nbformat": 4,
 "nbformat_minor": 5
}
